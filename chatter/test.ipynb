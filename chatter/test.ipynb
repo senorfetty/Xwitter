{
 "cells": [
  {
   "cell_type": "code",
   "execution_count": 1,
   "metadata": {},
   "outputs": [
    {
     "name": "stdout",
     "output_type": "stream",
     "text": [
      "My people have perished and fallen short of Glory of God\n"
     ]
    }
   ],
   "source": [
    "body = 'Mypeoplehaveperishedandfallenshort'\n",
    "print(body)"
   ]
  },
  {
   "cell_type": "code",
   "execution_count": 38,
   "metadata": {},
   "outputs": [
    {
     "name": "stdout",
     "output_type": "stream",
     "text": [
      "M\n",
      "y\n",
      ",\n",
      " \n",
      "#\n",
      "p\n",
      "e\n",
      "o\n",
      "p\n",
      "l\n",
      "e\n",
      ",\n",
      " \n",
      "h\n",
      "a\n",
      "v\n",
      "e\n",
      ",\n",
      " \n",
      "p\n",
      "e\n",
      "r\n",
      "i\n",
      "s\n",
      "h\n",
      "e\n",
      "d\n",
      " \n",
      ",\n",
      "a\n",
      "n\n",
      "d\n",
      " \n",
      "f\n",
      "a\n",
      "l\n",
      "l\n",
      "e\n",
      "n\n",
      " \n",
      "s\n",
      "h\n",
      "o\n",
      "r\n",
      "t\n",
      " \n",
      "o\n",
      "f\n",
      " \n",
      "G\n",
      "l\n",
      "o\n",
      "r\n",
      "y\n",
      " \n",
      "o\n",
      "f\n",
      " \n",
      "#\n",
      "G\n",
      "o\n",
      "d\n"
     ]
    }
   ],
   "source": [
    "body = ('My, #people, have, perished ,and fallen short of Glory of #God')\n",
    "\n",
    "for i in body:\n",
    "    print(i)"
   ]
  }
 ],
 "metadata": {
  "kernelspec": {
   "display_name": "Python 3",
   "language": "python",
   "name": "python3"
  },
  "language_info": {
   "codemirror_mode": {
    "name": "ipython",
    "version": 3
   },
   "file_extension": ".py",
   "mimetype": "text/x-python",
   "name": "python",
   "nbconvert_exporter": "python",
   "pygments_lexer": "ipython3",
   "version": "3.12.0"
  }
 },
 "nbformat": 4,
 "nbformat_minor": 2
}
